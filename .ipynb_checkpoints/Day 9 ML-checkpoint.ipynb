{
 "cells": [
  {
   "cell_type": "markdown",
   "id": "93d941f4",
   "metadata": {},
   "source": [
    "# Deep Learning"
   ]
  },
  {
   "cell_type": "markdown",
   "id": "53fb45a7",
   "metadata": {},
   "source": [
    "Deep learning is a machine learning technique that teaches computers to do what comes naturally to humans: learn by example. \n",
    "\n",
    "Deep learning is a key technology behind driverless cars, enabling them to recognize a stop sign, or to distinguish a pedestrian from a lamppost. It is the key to voice control in consumer devices like phones, tablets, TVs, and hands-free speakers.\n"
   ]
  },
  {
   "cell_type": "markdown",
   "id": "dd4ed4bc",
   "metadata": {},
   "source": [
    "In deep learning, a computer model learns to perform classification tasks directly from images, text, or sound. Deep learning models can achieve state-of-the-art accuracy, sometimes exceeding human-level performance. Models are trained by using a large set of labeled data and neural network architectures that contain many layers."
   ]
  },
  {
   "cell_type": "markdown",
   "id": "10882bb6",
   "metadata": {},
   "source": [
    "## How does deep learning attain such impressive results?\n",
    "\n",
    "- Deep learning requires large amounts of labeled data. For example, driverless car development requires millions of images and thousands of hours of video.\n",
    "\n",
    "- Deep learning requires substantial computing power. High-performance GPUs have a parallel architecture that is efficient for deep learning. When combined with clusters or cloud computing, this enables development teams to reduce training time for a deep learning network from weeks to hours or less."
   ]
  },
  {
   "cell_type": "markdown",
   "id": "147c1bea",
   "metadata": {},
   "source": [
    "## Examples of Deep Learning at Work\n",
    "\n",
    "- Automated Driving\n",
    "- Aerospace and Defense\n",
    "- Medical Research\n",
    "- Industrial Automation\n",
    "- Electronics"
   ]
  },
  {
   "cell_type": "markdown",
   "id": "0362cd64",
   "metadata": {},
   "source": [
    "## How Deep Learning Works"
   ]
  },
  {
   "cell_type": "markdown",
   "id": "a98b35ba",
   "metadata": {},
   "source": [
    "- Most deep learning methods use neural network architectures, which is why deep learning models are often referred to as *deep neural networks*.\n",
    "\n",
    "- The term “deep” usually refers to the number of hidden layers in the neural network. Traditional neural networks (4:37) only contain 2-3 hidden layers, while deep networks can have as many as 150.\n",
    "\n",
    "- Deep learning models are trained by using large sets of labeled data and neural network architectures that learn features directly from the data without the need for manual feature extraction."
   ]
  },
  {
   "cell_type": "markdown",
   "id": "c539d429",
   "metadata": {},
   "source": [
    "## What are Deep Neural Networks?"
   ]
  },
  {
   "cell_type": "markdown",
   "id": "a266e362",
   "metadata": {},
   "source": [
    "- A deep neural network (DNN) is an ANN with multiple hidden layers between the input and output layers. Similar to shallow ANNs, DNNs can model complex non-linear relationships.\n",
    "\n",
    "- The main purpose of a neural network is to receive a set of inputs, perform progressively complex calculations on them, and give output to solve real world problems like classification. We restrict ourselves to feed forward neural networks.\n",
    "\n",
    "- We have an input, an output, and a flow of sequential data in a deep networks.\n",
    "\n",
    "- Neural networks are widely used in supervised learning and reinforcement learning problems. These networks are based on a set of layers connected to each other.\n",
    "\n",
    "- In deep learning, the number of hidden layers, mostly non-linear, can be large; say about 1000 layers.\n",
    "\n",
    "- DL models produce much better results than normal ML networks.\n"
   ]
  },
  {
   "cell_type": "markdown",
   "id": "cb67aa5b",
   "metadata": {},
   "source": [
    "## What's the Difference Between Machine Learning and Deep Learning?\n",
    "\n",
    "\n",
    "- Deep learning is a specialized form of machine learning. A machine learning workflow starts with relevant features being manually extracted from images. The features are then used to create a model that categorizes the objects in the image. With a deep learning workflow, relevant features are automatically extracted from images. \n",
    "\n",
    "- In addition, deep learning performs “end-to-end learning” – where a network is given raw data and a task to perform, such as classification, and it learns how to do this automatically.\n",
    "\n",
    "- Another key difference is deep learning algorithms scale with data, whereas shallow learning converges. Shallow learning refers to machine learning methods that plateau at a certain level of performance when you add more examples and training data to the network.\n",
    "\n",
    "- A key advantage of deep learning networks is that they often continue to improve as the size of your data increases."
   ]
  },
  {
   "cell_type": "markdown",
   "id": "67d46f0e",
   "metadata": {},
   "source": [
    "## Choosing Between Machine Learning and Deep Learning\n",
    "\n",
    "- Machine learning offers a variety of techniques and models you can choose based on your application, the size of data you're processing, and the type of problem you want to solve.\n",
    "\n",
    "- A successful deep learning application requires a very large amount of data (thousands of images) to train the model, as well as GPUs, or graphics processing units, to rapidly process your data.\n",
    "\n",
    "- When choosing between machine learning and deep learning, consider whether you have a high-performance GPU and lots of labeled data. If you don’t have either of those things, it may make more sense to use machine learning instead of deep learning. \n",
    "\n",
    "- Deep learning is generally more complex, so you’ll need at least a few thousand images to get reliable results. Having a high-performance GPU means the model will take less time to analyze all those images."
   ]
  },
  {
   "cell_type": "markdown",
   "id": "666b2c24",
   "metadata": {},
   "source": [
    "## How to create and train deep learning models\n",
    "\n",
    "1. Training from Scratch\n",
    "\n",
    " To train a deep network from scratch, you gather a very large labeled data set and design a network architecture that will learn the features and model\n",
    "\n",
    "\n",
    "2. Transfer Learning\n",
    " \n",
    " Most deep learning applications use the transfer learning approach, a process that involves fine-tuning a pretrained mode\n",
    "\n",
    "\n",
    "3. Feature Extraction\n",
    " \n",
    " A slightly less common, more specialized approach to deep learning is to use the network as a feature extractor. Since all the layers are tasked with learning certain features from images, we can pull these features out of the network at any time during the training process. "
   ]
  },
  {
   "cell_type": "markdown",
   "id": "a1f4b143",
   "metadata": {},
   "source": [
    "## Types of DNN\n",
    "\n",
    "1. Restricted Boltzman Networks or Autoencoders - RBNs\n",
    "2. Deep Belief Networks - DBNs\n",
    "3. Generative Adversarial Networks - GANs\n",
    "4. Recurrent Neural Networks - RNNs\n",
    "5. Convolutional Deep Neural Networks - CNNs\n"
   ]
  },
  {
   "cell_type": "code",
   "execution_count": null,
   "id": "5627938c",
   "metadata": {},
   "outputs": [],
   "source": []
  }
 ],
 "metadata": {
  "kernelspec": {
   "display_name": "Python 3 (ipykernel)",
   "language": "python",
   "name": "python3"
  },
  "language_info": {
   "codemirror_mode": {
    "name": "ipython",
    "version": 3
   },
   "file_extension": ".py",
   "mimetype": "text/x-python",
   "name": "python",
   "nbconvert_exporter": "python",
   "pygments_lexer": "ipython3",
   "version": "3.10.7"
  }
 },
 "nbformat": 4,
 "nbformat_minor": 5
}
