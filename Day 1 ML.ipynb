{
 "cells": [
  {
   "cell_type": "markdown",
   "id": "0df2454a",
   "metadata": {},
   "source": [
    "# MACHINE LEARNING"
   ]
  },
  {
   "cell_type": "markdown",
   "id": "56b050ae",
   "metadata": {},
   "source": [
    "Machine learning is programming computers to optimize a performance criterion using example\n",
    "data or past experience. We have a model defined up to some parameters, and learning is the\n",
    "execution of a computer program to optimize the parameters of the model using the training data or\n",
    "past experience. \n",
    "\n",
    "The model may be predictive to make predictions in the future, or descriptive to gain\n",
    "knowledge from data, or both"
   ]
  },
  {
   "cell_type": "markdown",
   "id": "a1b78cfb",
   "metadata": {},
   "source": [
    "A computer program is said to learn from experience E with respect to some class of tasks T and\n",
    "performance measure P, if its performance at tasks T, as measured by P, improves with experience E."
   ]
  },
  {
   "cell_type": "markdown",
   "id": "1ef00bff",
   "metadata": {},
   "source": [
    "# Machine Learning vs Artificial Learning"
   ]
  },
  {
   "cell_type": "markdown",
   "id": "a4880ad3",
   "metadata": {},
   "source": [
    "Machine learning is a subset of AI which allows a machine to automatically learn from past data without programming explicitly.\n",
    "\n",
    "The goal of AI is to make a smart computer system like humans to solve complex problems.\n",
    "\n",
    "The goal of ML is to allow machines to learn from data so that they can give accurate output."
   ]
  },
  {
   "cell_type": "markdown",
   "id": "19e6f575",
   "metadata": {},
   "source": [
    "# Scope of Machine Learning"
   ]
  },
  {
   "cell_type": "markdown",
   "id": "8791192d",
   "metadata": {},
   "source": [
    "The Future Scope of Machine Learning: Top Use Cases\n",
    "“Machine learning is the process of automatically getting insights from data that can drive business value”, says Lavanya Tekumalla, founder and mentor. \n",
    "\n",
    "This is typically done in the following process:\n",
    "\n",
    "1) Gathering and preparing large volumes of data that the machine will use to teach itself.\n",
    "2) Feeding the data into ML models and training them to make right decisions through supervision and correction.\n",
    "3) Deploying the model to make analytical predictions or feed with new kinds of data to expand its capabilities.\n"
   ]
  },
  {
   "cell_type": "markdown",
   "id": "fd66cf27",
   "metadata": {},
   "source": [
    "# Types of ML"
   ]
  },
  {
   "cell_type": "markdown",
   "id": "77d49f39",
   "metadata": {},
   "source": [
    "In general, machine learning algorithms can be classified into three types:\n",
    "\n",
    "1) Supervised learning\n",
    "    - Regression\n",
    "    - Classiffication\n",
    "2) Unsupervised learning\n",
    "    - Clustering\n",
    "    - Market Basket Analysis\n",
    "3) Reinforcement learning\n"
   ]
  },
  {
   "cell_type": "markdown",
   "id": "d6e5a017",
   "metadata": {},
   "source": [
    "# Real World Application\n"
   ]
  },
  {
   "cell_type": "markdown",
   "id": "09f3dd3a",
   "metadata": {},
   "source": [
    "1. Image Recognition\n",
    "2. Speech Recognition\n",
    "3. Traffic prediction\n",
    "4. Product recommendations\n",
    "5. Self-driving cars\n",
    "6. Email Spam and Malware Filtering\n",
    "7. Virtual Personal Assistant\n",
    "8. Online Fraud Detection\n",
    "9. Stock Market trading\n",
    "10. Medical Diagnosis\n",
    "11. Automatic Language Translation"
   ]
  },
  {
   "cell_type": "markdown",
   "id": "b2f0da4f",
   "metadata": {},
   "source": [
    "# Data Wrangling"
   ]
  },
  {
   "cell_type": "markdown",
   "id": "7d2f9273",
   "metadata": {},
   "source": [
    "Data Wrangling is a broad term used often from informally to describe the process of transforming the raw data to a clean and organized format ready for use for us.\n",
    "\n",
    "The wrangling is only one step in processing our data.\n",
    "\n",
    "The most common data structure used to wrangle data is the data frame, which can be both intuitive and incredibly versatile.\n",
    "\n",
    "That the frames are tabular, meaning that they are based in rows and columns"
   ]
  },
  {
   "cell_type": "code",
   "execution_count": 1,
   "id": "c9ec070d",
   "metadata": {},
   "outputs": [
    {
     "data": {
      "text/html": [
       "<div>\n",
       "<style scoped>\n",
       "    .dataframe tbody tr th:only-of-type {\n",
       "        vertical-align: middle;\n",
       "    }\n",
       "\n",
       "    .dataframe tbody tr th {\n",
       "        vertical-align: top;\n",
       "    }\n",
       "\n",
       "    .dataframe thead th {\n",
       "        text-align: right;\n",
       "    }\n",
       "</style>\n",
       "<table border=\"1\" class=\"dataframe\">\n",
       "  <thead>\n",
       "    <tr style=\"text-align: right;\">\n",
       "      <th></th>\n",
       "      <th>Name</th>\n",
       "      <th>PClass</th>\n",
       "      <th>Age</th>\n",
       "      <th>Sex</th>\n",
       "      <th>Survived</th>\n",
       "      <th>SexCode</th>\n",
       "    </tr>\n",
       "  </thead>\n",
       "  <tbody>\n",
       "    <tr>\n",
       "      <th>0</th>\n",
       "      <td>Allen, Miss Elisabeth Walton</td>\n",
       "      <td>1st</td>\n",
       "      <td>29.00</td>\n",
       "      <td>female</td>\n",
       "      <td>1</td>\n",
       "      <td>1</td>\n",
       "    </tr>\n",
       "    <tr>\n",
       "      <th>1</th>\n",
       "      <td>Allison, Miss Helen Loraine</td>\n",
       "      <td>1st</td>\n",
       "      <td>2.00</td>\n",
       "      <td>female</td>\n",
       "      <td>0</td>\n",
       "      <td>1</td>\n",
       "    </tr>\n",
       "    <tr>\n",
       "      <th>2</th>\n",
       "      <td>Allison, Mr Hudson Joshua Creighton</td>\n",
       "      <td>1st</td>\n",
       "      <td>30.00</td>\n",
       "      <td>male</td>\n",
       "      <td>0</td>\n",
       "      <td>0</td>\n",
       "    </tr>\n",
       "    <tr>\n",
       "      <th>3</th>\n",
       "      <td>Allison, Mrs Hudson JC (Bessie Waldo Daniels)</td>\n",
       "      <td>1st</td>\n",
       "      <td>25.00</td>\n",
       "      <td>female</td>\n",
       "      <td>0</td>\n",
       "      <td>1</td>\n",
       "    </tr>\n",
       "    <tr>\n",
       "      <th>4</th>\n",
       "      <td>Allison, Master Hudson Trevor</td>\n",
       "      <td>1st</td>\n",
       "      <td>0.92</td>\n",
       "      <td>male</td>\n",
       "      <td>1</td>\n",
       "      <td>0</td>\n",
       "    </tr>\n",
       "    <tr>\n",
       "      <th>...</th>\n",
       "      <td>...</td>\n",
       "      <td>...</td>\n",
       "      <td>...</td>\n",
       "      <td>...</td>\n",
       "      <td>...</td>\n",
       "      <td>...</td>\n",
       "    </tr>\n",
       "    <tr>\n",
       "      <th>1308</th>\n",
       "      <td>Zakarian, Mr Artun</td>\n",
       "      <td>3rd</td>\n",
       "      <td>27.00</td>\n",
       "      <td>male</td>\n",
       "      <td>0</td>\n",
       "      <td>0</td>\n",
       "    </tr>\n",
       "    <tr>\n",
       "      <th>1309</th>\n",
       "      <td>Zakarian, Mr Maprieder</td>\n",
       "      <td>3rd</td>\n",
       "      <td>26.00</td>\n",
       "      <td>male</td>\n",
       "      <td>0</td>\n",
       "      <td>0</td>\n",
       "    </tr>\n",
       "    <tr>\n",
       "      <th>1310</th>\n",
       "      <td>Zenni, Mr Philip</td>\n",
       "      <td>3rd</td>\n",
       "      <td>22.00</td>\n",
       "      <td>male</td>\n",
       "      <td>0</td>\n",
       "      <td>0</td>\n",
       "    </tr>\n",
       "    <tr>\n",
       "      <th>1311</th>\n",
       "      <td>Lievens, Mr Rene</td>\n",
       "      <td>3rd</td>\n",
       "      <td>24.00</td>\n",
       "      <td>male</td>\n",
       "      <td>0</td>\n",
       "      <td>0</td>\n",
       "    </tr>\n",
       "    <tr>\n",
       "      <th>1312</th>\n",
       "      <td>Zimmerman, Leo</td>\n",
       "      <td>3rd</td>\n",
       "      <td>29.00</td>\n",
       "      <td>male</td>\n",
       "      <td>0</td>\n",
       "      <td>0</td>\n",
       "    </tr>\n",
       "  </tbody>\n",
       "</table>\n",
       "<p>1313 rows × 6 columns</p>\n",
       "</div>"
      ],
      "text/plain": [
       "                                               Name PClass    Age     Sex  \\\n",
       "0                      Allen, Miss Elisabeth Walton    1st  29.00  female   \n",
       "1                       Allison, Miss Helen Loraine    1st   2.00  female   \n",
       "2               Allison, Mr Hudson Joshua Creighton    1st  30.00    male   \n",
       "3     Allison, Mrs Hudson JC (Bessie Waldo Daniels)    1st  25.00  female   \n",
       "4                     Allison, Master Hudson Trevor    1st   0.92    male   \n",
       "...                                             ...    ...    ...     ...   \n",
       "1308                             Zakarian, Mr Artun    3rd  27.00    male   \n",
       "1309                         Zakarian, Mr Maprieder    3rd  26.00    male   \n",
       "1310                               Zenni, Mr Philip    3rd  22.00    male   \n",
       "1311                               Lievens, Mr Rene    3rd  24.00    male   \n",
       "1312                                 Zimmerman, Leo    3rd  29.00    male   \n",
       "\n",
       "      Survived  SexCode  \n",
       "0            1        1  \n",
       "1            0        1  \n",
       "2            0        0  \n",
       "3            0        1  \n",
       "4            1        0  \n",
       "...        ...      ...  \n",
       "1308         0        0  \n",
       "1309         0        0  \n",
       "1310         0        0  \n",
       "1311         0        0  \n",
       "1312         0        0  \n",
       "\n",
       "[1313 rows x 6 columns]"
      ]
     },
     "execution_count": 1,
     "metadata": {},
     "output_type": "execute_result"
    }
   ],
   "source": [
    "import pandas as pd\n",
    " \n",
    "url = 'https://raw.githubusercontent.com/chrisalbon/simulated_datasets/master/titanic.csv'\n",
    "dataframe = pd.read_csv(url)\n",
    "dataframe"
   ]
  },
  {
   "cell_type": "code",
   "execution_count": 2,
   "id": "8c7dce7e",
   "metadata": {},
   "outputs": [
    {
     "data": {
      "text/html": [
       "<div>\n",
       "<style scoped>\n",
       "    .dataframe tbody tr th:only-of-type {\n",
       "        vertical-align: middle;\n",
       "    }\n",
       "\n",
       "    .dataframe tbody tr th {\n",
       "        vertical-align: top;\n",
       "    }\n",
       "\n",
       "    .dataframe thead th {\n",
       "        text-align: right;\n",
       "    }\n",
       "</style>\n",
       "<table border=\"1\" class=\"dataframe\">\n",
       "  <thead>\n",
       "    <tr style=\"text-align: right;\">\n",
       "      <th></th>\n",
       "      <th>Name</th>\n",
       "      <th>PClass</th>\n",
       "      <th>Age</th>\n",
       "      <th>Sex</th>\n",
       "      <th>Survived</th>\n",
       "      <th>SexCode</th>\n",
       "    </tr>\n",
       "  </thead>\n",
       "  <tbody>\n",
       "    <tr>\n",
       "      <th>0</th>\n",
       "      <td>Allen, Miss Elisabeth Walton</td>\n",
       "      <td>1st</td>\n",
       "      <td>29.00</td>\n",
       "      <td>female</td>\n",
       "      <td>1</td>\n",
       "      <td>1</td>\n",
       "    </tr>\n",
       "    <tr>\n",
       "      <th>1</th>\n",
       "      <td>Allison, Miss Helen Loraine</td>\n",
       "      <td>1st</td>\n",
       "      <td>2.00</td>\n",
       "      <td>female</td>\n",
       "      <td>0</td>\n",
       "      <td>1</td>\n",
       "    </tr>\n",
       "    <tr>\n",
       "      <th>2</th>\n",
       "      <td>Allison, Mr Hudson Joshua Creighton</td>\n",
       "      <td>1st</td>\n",
       "      <td>30.00</td>\n",
       "      <td>male</td>\n",
       "      <td>0</td>\n",
       "      <td>0</td>\n",
       "    </tr>\n",
       "    <tr>\n",
       "      <th>3</th>\n",
       "      <td>Allison, Mrs Hudson JC (Bessie Waldo Daniels)</td>\n",
       "      <td>1st</td>\n",
       "      <td>25.00</td>\n",
       "      <td>female</td>\n",
       "      <td>0</td>\n",
       "      <td>1</td>\n",
       "    </tr>\n",
       "    <tr>\n",
       "      <th>4</th>\n",
       "      <td>Allison, Master Hudson Trevor</td>\n",
       "      <td>1st</td>\n",
       "      <td>0.92</td>\n",
       "      <td>male</td>\n",
       "      <td>1</td>\n",
       "      <td>0</td>\n",
       "    </tr>\n",
       "  </tbody>\n",
       "</table>\n",
       "</div>"
      ],
      "text/plain": [
       "                                            Name PClass    Age     Sex  \\\n",
       "0                   Allen, Miss Elisabeth Walton    1st  29.00  female   \n",
       "1                    Allison, Miss Helen Loraine    1st   2.00  female   \n",
       "2            Allison, Mr Hudson Joshua Creighton    1st  30.00    male   \n",
       "3  Allison, Mrs Hudson JC (Bessie Waldo Daniels)    1st  25.00  female   \n",
       "4                  Allison, Master Hudson Trevor    1st   0.92    male   \n",
       "\n",
       "   Survived  SexCode  \n",
       "0         1        1  \n",
       "1         0        1  \n",
       "2         0        0  \n",
       "3         0        1  \n",
       "4         1        0  "
      ]
     },
     "execution_count": 2,
     "metadata": {},
     "output_type": "execute_result"
    }
   ],
   "source": [
    "dataframe.head(5)"
   ]
  },
  {
   "cell_type": "markdown",
   "id": "7334cb9c",
   "metadata": {},
   "source": [
    "### 1. Data Inspection and Exploration"
   ]
  },
  {
   "cell_type": "code",
   "execution_count": 3,
   "id": "39625ed5",
   "metadata": {},
   "outputs": [
    {
     "data": {
      "text/html": [
       "<div>\n",
       "<style scoped>\n",
       "    .dataframe tbody tr th:only-of-type {\n",
       "        vertical-align: middle;\n",
       "    }\n",
       "\n",
       "    .dataframe tbody tr th {\n",
       "        vertical-align: top;\n",
       "    }\n",
       "\n",
       "    .dataframe thead th {\n",
       "        text-align: right;\n",
       "    }\n",
       "</style>\n",
       "<table border=\"1\" class=\"dataframe\">\n",
       "  <thead>\n",
       "    <tr style=\"text-align: right;\">\n",
       "      <th></th>\n",
       "      <th>Age</th>\n",
       "      <th>Survived</th>\n",
       "      <th>SexCode</th>\n",
       "    </tr>\n",
       "  </thead>\n",
       "  <tbody>\n",
       "    <tr>\n",
       "      <th>count</th>\n",
       "      <td>756.000000</td>\n",
       "      <td>1313.000000</td>\n",
       "      <td>1313.000000</td>\n",
       "    </tr>\n",
       "    <tr>\n",
       "      <th>mean</th>\n",
       "      <td>30.397989</td>\n",
       "      <td>0.342727</td>\n",
       "      <td>0.351866</td>\n",
       "    </tr>\n",
       "    <tr>\n",
       "      <th>std</th>\n",
       "      <td>14.259049</td>\n",
       "      <td>0.474802</td>\n",
       "      <td>0.477734</td>\n",
       "    </tr>\n",
       "    <tr>\n",
       "      <th>min</th>\n",
       "      <td>0.170000</td>\n",
       "      <td>0.000000</td>\n",
       "      <td>0.000000</td>\n",
       "    </tr>\n",
       "    <tr>\n",
       "      <th>25%</th>\n",
       "      <td>21.000000</td>\n",
       "      <td>0.000000</td>\n",
       "      <td>0.000000</td>\n",
       "    </tr>\n",
       "    <tr>\n",
       "      <th>50%</th>\n",
       "      <td>28.000000</td>\n",
       "      <td>0.000000</td>\n",
       "      <td>0.000000</td>\n",
       "    </tr>\n",
       "    <tr>\n",
       "      <th>75%</th>\n",
       "      <td>39.000000</td>\n",
       "      <td>1.000000</td>\n",
       "      <td>1.000000</td>\n",
       "    </tr>\n",
       "    <tr>\n",
       "      <th>max</th>\n",
       "      <td>71.000000</td>\n",
       "      <td>1.000000</td>\n",
       "      <td>1.000000</td>\n",
       "    </tr>\n",
       "  </tbody>\n",
       "</table>\n",
       "</div>"
      ],
      "text/plain": [
       "              Age     Survived      SexCode\n",
       "count  756.000000  1313.000000  1313.000000\n",
       "mean    30.397989     0.342727     0.351866\n",
       "std     14.259049     0.474802     0.477734\n",
       "min      0.170000     0.000000     0.000000\n",
       "25%     21.000000     0.000000     0.000000\n",
       "50%     28.000000     0.000000     0.000000\n",
       "75%     39.000000     1.000000     1.000000\n",
       "max     71.000000     1.000000     1.000000"
      ]
     },
     "execution_count": 3,
     "metadata": {},
     "output_type": "execute_result"
    }
   ],
   "source": [
    "dataframe.describe()"
   ]
  },
  {
   "cell_type": "code",
   "execution_count": 4,
   "id": "734d3628",
   "metadata": {},
   "outputs": [
    {
     "data": {
      "text/plain": [
       "0       False\n",
       "1       False\n",
       "2       False\n",
       "3       False\n",
       "4       False\n",
       "        ...  \n",
       "1308    False\n",
       "1309    False\n",
       "1310    False\n",
       "1311    False\n",
       "1312    False\n",
       "Length: 1313, dtype: bool"
      ]
     },
     "execution_count": 4,
     "metadata": {},
     "output_type": "execute_result"
    }
   ],
   "source": [
    "dataframe.duplicated()"
   ]
  },
  {
   "cell_type": "code",
   "execution_count": 5,
   "id": "d9f1e0b1",
   "metadata": {},
   "outputs": [
    {
     "name": "stdout",
     "output_type": "stream",
     "text": [
      "<class 'pandas.core.frame.DataFrame'>\n",
      "RangeIndex: 1313 entries, 0 to 1312\n",
      "Data columns (total 6 columns):\n",
      " #   Column    Non-Null Count  Dtype  \n",
      "---  ------    --------------  -----  \n",
      " 0   Name      1313 non-null   object \n",
      " 1   PClass    1313 non-null   object \n",
      " 2   Age       756 non-null    float64\n",
      " 3   Sex       1313 non-null   object \n",
      " 4   Survived  1313 non-null   int64  \n",
      " 5   SexCode   1313 non-null   int64  \n",
      "dtypes: float64(1), int64(2), object(3)\n",
      "memory usage: 61.7+ KB\n"
     ]
    }
   ],
   "source": [
    "dataframe.info()"
   ]
  },
  {
   "cell_type": "code",
   "execution_count": 6,
   "id": "ea774174",
   "metadata": {},
   "outputs": [
    {
     "data": {
      "text/plain": [
       "Name        1310\n",
       "PClass         4\n",
       "Age           75\n",
       "Sex            2\n",
       "Survived       2\n",
       "SexCode        2\n",
       "dtype: int64"
      ]
     },
     "execution_count": 6,
     "metadata": {},
     "output_type": "execute_result"
    }
   ],
   "source": [
    "dataframe.nunique()"
   ]
  },
  {
   "cell_type": "code",
   "execution_count": 7,
   "id": "372190c8",
   "metadata": {},
   "outputs": [
    {
     "name": "stdout",
     "output_type": "stream",
     "text": [
      "Categorical columns : ['Name', 'PClass', 'Sex']\n",
      "Numerical columns : ['Age', 'Survived', 'SexCode']\n"
     ]
    }
   ],
   "source": [
    "cat_col = [col for col in dataframe.columns if dataframe[col].dtype == 'object']\n",
    "print('Categorical columns :',cat_col)\n",
    "# Numerical columns\n",
    "num_col = [col for col in dataframe.columns if dataframe[col].dtype != 'object']\n",
    "print('Numerical columns :',num_col)"
   ]
  },
  {
   "cell_type": "code",
   "execution_count": 8,
   "id": "e685ef63",
   "metadata": {},
   "outputs": [
    {
     "data": {
      "text/plain": [
       "Name      1310\n",
       "PClass       4\n",
       "Sex          2\n",
       "dtype: int64"
      ]
     },
     "execution_count": 8,
     "metadata": {},
     "output_type": "execute_result"
    }
   ],
   "source": [
    "dataframe[cat_col].nunique()"
   ]
  },
  {
   "cell_type": "markdown",
   "id": "d444dcc1",
   "metadata": {},
   "source": [
    "### 2. Removal of unwanted observations"
   ]
  },
  {
   "cell_type": "code",
   "execution_count": 9,
   "id": "1cbc6ad3",
   "metadata": {},
   "outputs": [
    {
     "data": {
      "text/plain": [
       "array(['Allen, Miss Elisabeth Walton', 'Allison, Miss Helen Loraine',\n",
       "       'Allison, Mr Hudson Joshua Creighton',\n",
       "       'Allison, Mrs Hudson JC (Bessie Waldo Daniels)',\n",
       "       'Allison, Master Hudson Trevor', 'Anderson, Mr Harry',\n",
       "       'Andrews, Miss Kornelia Theodosia', 'Andrews, Mr Thomas, jr',\n",
       "       'Appleton, Mrs Edward Dale (Charlotte Lamson)',\n",
       "       'Artagaveytia, Mr Ramon', 'Astor, Colonel John Jacob',\n",
       "       'Astor, Mrs John Jacob (Madeleine Talmadge Force)',\n",
       "       'Aubert, Mrs Leontine Pauline', 'Barkworth, Mr Algernon H',\n",
       "       'Baumann, Mr John D',\n",
       "       'Baxter, Mrs James (Helene DeLaudeniere Chaput)',\n",
       "       'Baxter, Mr Quigg Edmond', 'Beattie, Mr Thomson',\n",
       "       'Beckwith, Mr Richard Leonard',\n",
       "       'Beckwith, Mrs Richard Leonard (Sallie Monypeny)',\n",
       "       'Behr, Mr Karl Howell', 'Birnbaum, Mr Jakob',\n",
       "       'Bishop, Mr Dickinson H', 'Bishop, Mrs Dickinson H (Helen Walton)',\n",
       "       'Bjornstrm-Steffansson, Mr Mauritz Hakan',\n",
       "       'Blackwell, Mr Stephen Weart', 'Blank, Mr Henry',\n",
       "       'Bonnell, Miss Caroline', 'Bonnell, Miss Elizabeth',\n",
       "       'Borebank, Mr John James', 'Bowen, Miss Grace Scott',\n",
       "       'Bowerman, Miss Elsie Edith', 'Bradley, Mr George',\n",
       "       'Brady, Mr John Bertram', 'Brandeis, Mr Emil',\n",
       "       'Brewe, Dr Arthur Jackson',\n",
       "       'Brown, Mrs James Joseph (Margaret Molly\" Tobin)\"',\n",
       "       'Brown, Mrs John Murray (Caroline Lane Lamson)',\n",
       "       'Bucknell, Mrs William Robert (Emma Eliza Ward)',\n",
       "       'Butt, Major Archibald Willingham', 'Calderhead, Mr Edward P',\n",
       "       'Candee, Mrs Edward (Helen Churchill Hungerford)',\n",
       "       'Cardeza, Mrs James Warburton Martinez (Charlotte Wardle Drake)',\n",
       "       'Cardeza, Mr Thomas Drake Martinez', 'Carlsson, Mr Frans Olof',\n",
       "       'Carrau, Mr Francisco M', 'Carrau, Mr Jose Pedro',\n",
       "       'Carter, Mr William Ernest',\n",
       "       'Carter, Mrs William Ernest (Lucile Polk)',\n",
       "       'Carter, Miss Lucile Polk'], dtype=object)"
      ]
     },
     "execution_count": 9,
     "metadata": {},
     "output_type": "execute_result"
    }
   ],
   "source": [
    "dataframe['Name'].unique()[:50]"
   ]
  },
  {
   "cell_type": "code",
   "execution_count": 10,
   "id": "e7abb596",
   "metadata": {},
   "outputs": [
    {
     "data": {
      "text/plain": [
       "array([1, 0], dtype=int64)"
      ]
     },
     "execution_count": 10,
     "metadata": {},
     "output_type": "execute_result"
    }
   ],
   "source": [
    "dataframe['Survived'].unique()[:50]"
   ]
  },
  {
   "cell_type": "code",
   "execution_count": 11,
   "id": "220161e5",
   "metadata": {},
   "outputs": [
    {
     "data": {
      "text/plain": [
       "(1313, 5)"
      ]
     },
     "execution_count": 11,
     "metadata": {},
     "output_type": "execute_result"
    }
   ],
   "source": [
    "df1 = dataframe.drop(columns=['Name'])\n",
    "df1.shape"
   ]
  },
  {
   "cell_type": "markdown",
   "id": "15c83682",
   "metadata": {},
   "source": [
    "### 3. Handling Missing Values"
   ]
  },
  {
   "cell_type": "code",
   "execution_count": 12,
   "id": "5ac1692b",
   "metadata": {},
   "outputs": [
    {
     "data": {
      "text/plain": [
       "PClass       0.00\n",
       "Age         42.42\n",
       "Sex          0.00\n",
       "Survived     0.00\n",
       "SexCode      0.00\n",
       "dtype: float64"
      ]
     },
     "execution_count": 12,
     "metadata": {},
     "output_type": "execute_result"
    }
   ],
   "source": [
    "round((df1.isnull().sum()/df1.shape[0])*100,2)"
   ]
  },
  {
   "cell_type": "code",
   "execution_count": 13,
   "id": "9843f927",
   "metadata": {},
   "outputs": [
    {
     "data": {
      "text/plain": [
       "PClass      0\n",
       "Age         0\n",
       "Sex         0\n",
       "Survived    0\n",
       "SexCode     0\n",
       "dtype: int64"
      ]
     },
     "execution_count": 13,
     "metadata": {},
     "output_type": "execute_result"
    }
   ],
   "source": [
    "# Mean imputation\n",
    "df2 = df1.fillna(df1.Age.mean())\n",
    "# Let's check the null values again\n",
    "df2.isnull().sum()"
   ]
  }
 ],
 "metadata": {
  "kernelspec": {
   "display_name": "Python 3 (ipykernel)",
   "language": "python",
   "name": "python3"
  },
  "language_info": {
   "codemirror_mode": {
    "name": "ipython",
    "version": 3
   },
   "file_extension": ".py",
   "mimetype": "text/x-python",
   "name": "python",
   "nbconvert_exporter": "python",
   "pygments_lexer": "ipython3",
   "version": "3.10.7"
  },
  "vscode": {
   "interpreter": {
    "hash": "df95319d8ce4e1d89f5365ae10992bc1f65da593082b1d264e8f529830ec2f02"
   }
  }
 },
 "nbformat": 4,
 "nbformat_minor": 5
}
