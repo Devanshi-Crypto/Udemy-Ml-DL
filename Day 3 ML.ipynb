{
 "cells": [
  {
   "cell_type": "markdown",
   "id": "d41c2b8f",
   "metadata": {},
   "source": [
    "# Feature Scaling  "
   ]
  },
  {
   "cell_type": "markdown",
   "id": "15024fce",
   "metadata": {},
   "source": [
    "Feature Scaling is a technique to standardize the independent features present in the data in a fixed range. It is performed during the data pre-processing. \n",
    "\n",
    "Working: \n",
    "Given a data-set with features- Age, Salary, BHK Apartment with the data size of 5000 people, each having these independent data features. \n",
    "\n",
    "Each data point is labeled as: \n",
    "\n",
    "Class1- YES (means with the given Age, Salary, BHK Apartment feature value one can buy the property).\n",
    "\n",
    "Class2- NO (means with the given Age, Salary, BHK Apartment feature value one can’t buy the property).\n"
   ]
  },
  {
   "cell_type": "markdown",
   "id": "28410e77",
   "metadata": {},
   "source": [
    "## Prediction of the class of new data points:"
   ]
  },
  {
   "cell_type": "markdown",
   "id": "63c53f2d",
   "metadata": {},
   "source": [
    " \n",
    "The model calculates the distance of this data point from the centroid of each class group. Finally, this data point will belong to that class, which will have a minimum centroid distance from it. \n",
    "The distance can be calculated between centroid and data point using these methods- \n",
    "\n",
    "#### *Euclidean Distance*:\n",
    "\n",
    "It is the square root of the sum of squares of differences between the coordinates (feature values – \n",
    "Age, Salary, BHK Apartment) of data point and centroid of each class. \n",
    "\n",
    "```d(x, y)=\\sqrt[r]{\\sum_{k=1}^{n}\\left(x_{k}-y_{k}\\right)^{r}} ``` \n",
    "where x is Data Point value, y is Centroid value and k is no. of feature values.\n",
    "\n",
    "#### _Manhattan Distance:_\n",
    "\n",
    "It is calculated as the sum of absolute differences between the coordinates (feature values) of data point and centroid of each class. \n",
    "\n",
    "```d(x, y)=\\sum_{k=1}^{n}\\left|x_{k}-y_{k}\\right```\n",
    " \n",
    "#### *Minkowski Distance:* \n",
    "\n",
    "It is a generalization of the above two methods. As shown in the figure, different values can be used for finding r.\n"
   ]
  },
  {
   "cell_type": "markdown",
   "id": "bad8e064",
   "metadata": {},
   "source": [
    "# Why Feature Scaling?"
   ]
  },
  {
   "cell_type": "markdown",
   "id": "cf49ff5b",
   "metadata": {},
   "source": [
    "The machine learning models assign weights to the independent variables according to their data points and conclusions for output.\n",
    "\n",
    "In that case, if the difference between the data points is high, the model will need to provide more significant weight to the farther points, and in the final results, the model with a large weight value assigned to undeserving features is often unstable."
   ]
  },
  {
   "cell_type": "markdown",
   "id": "d31569c3",
   "metadata": {},
   "source": [
    "- Feature scaling, also known as feature normalization, ensures that all features are on a comparable scale with similar ranges, avoiding dominance of larger scale features in the learning process.\n",
    "- Many machine learning techniques, including *gradient descent-based algorithms, k-nearest neighbors, and support vector machines*, benefit from scaled features as they perform better and converge faster.\n",
    "- Scaling helps prevent numerical instability caused by significant scale disparities between features, avoiding issues like numerical overflow or underflow in distance calculations or matrix operations.\n",
    "- By scaling features, biases in the learning process are removed, and each characteristic is given equal consideration, leading to more balanced and fair contributions from all features to model predictions."
   ]
  },
  {
   "cell_type": "markdown",
   "id": "c1b907ed",
   "metadata": {},
   "source": [
    "# Absolute Maximum Scaling"
   ]
  },
  {
   "cell_type": "markdown",
   "id": "b6d0de39",
   "metadata": {},
   "source": [
    "This method of scaling requires two-step:\n",
    "\n",
    "We should first select the maximum absolute value out of all the entries of a particular measure.\n",
    "Then after this, we divide each entry of the column by this maximum value.\n",
    "\n",
    "``` X_{\\rm {scaled }}=\\frac{X_{i}-\\rm{max}\\left(|X|\\right)}{\\rm{max}\\left(|X|\\right)}  ```"
   ]
  },
  {
   "cell_type": "code",
   "execution_count": 6,
   "id": "d3aa736e",
   "metadata": {},
   "outputs": [
    {
     "name": "stdout",
     "output_type": "stream",
     "text": [
      "   LotArea  MSSubClass\n",
      "0     8450          60\n",
      "1     9600          20\n",
      "2    11250          60\n",
      "3     9550          70\n",
      "4    14260          60\n"
     ]
    }
   ],
   "source": [
    "import pandas as pd\n",
    "df = pd.read_csv('SampleFile.csv')\n",
    "print(df.head())"
   ]
  },
  {
   "cell_type": "code",
   "execution_count": 7,
   "id": "0798bfa0",
   "metadata": {},
   "outputs": [
    {
     "name": "stderr",
     "output_type": "stream",
     "text": [
      "C:\\Users\\USER\\AppData\\Local\\Programs\\Python\\Python310\\lib\\site-packages\\numpy\\core\\fromnumeric.py:84: FutureWarning: In a future version, DataFrame.max(axis=None) will return a scalar max over the entire DataFrame. To retain the old behavior, use 'frame.max(axis=0)' or just 'frame.max()'\n",
      "  return reduction(axis=axis, out=out, **passkwargs)\n"
     ]
    },
    {
     "data": {
      "text/plain": [
       "LotArea       215245\n",
       "MSSubClass       190\n",
       "dtype: int64"
      ]
     },
     "execution_count": 7,
     "metadata": {},
     "output_type": "execute_result"
    }
   ],
   "source": [
    "import numpy as np\n",
    "max_vals = np.max(np.abs(df))\n",
    "max_vals"
   ]
  },
  {
   "cell_type": "code",
   "execution_count": 8,
   "id": "27251a84",
   "metadata": {},
   "outputs": [
    {
     "name": "stdout",
     "output_type": "stream",
     "text": [
      "       LotArea  MSSubClass\n",
      "0    -0.960742   -0.684211\n",
      "1    -0.955400   -0.894737\n",
      "2    -0.947734   -0.684211\n",
      "3    -0.955632   -0.631579\n",
      "4    -0.933750   -0.684211\n",
      "...        ...         ...\n",
      "1455 -0.963219   -0.684211\n",
      "1456 -0.938791   -0.894737\n",
      "1457 -0.957992   -0.631579\n",
      "1458 -0.954856   -0.894737\n",
      "1459 -0.953834   -0.894737\n",
      "\n",
      "[1460 rows x 2 columns]\n"
     ]
    }
   ],
   "source": [
    "print((df - max_vals) / max_vals)"
   ]
  },
  {
   "cell_type": "markdown",
   "id": "3ec2be50",
   "metadata": {},
   "source": [
    "# Min Max Scaling"
   ]
  },
  {
   "cell_type": "markdown",
   "id": "8f42c04b",
   "metadata": {},
   "source": [
    "This method of scaling requires below two-step:\n",
    "\n",
    "First, we are supposed to find the minimum and the maximum value of the column.\n",
    "Then we will subtract the minimum value from the entry and divide the result by the difference between the maximum and the minimum value.\n",
    "\n",
    "```X_{\\rm {scaled }}=\\frac{X_{i}-X_{\\text {min}}}{X_{\\rm{max}} - X_{\\rm{min}}} ```\n",
    "\n",
    "As we are using the maximum and the minimum value this method is also prone to outliers but the range in which the data will range after performing the above two steps is between 0 to 1."
   ]
  },
  {
   "cell_type": "code",
   "execution_count": 10,
   "id": "de8c5238",
   "metadata": {},
   "outputs": [
    {
     "data": {
      "text/html": [
       "<div>\n",
       "<style scoped>\n",
       "    .dataframe tbody tr th:only-of-type {\n",
       "        vertical-align: middle;\n",
       "    }\n",
       "\n",
       "    .dataframe tbody tr th {\n",
       "        vertical-align: top;\n",
       "    }\n",
       "\n",
       "    .dataframe thead th {\n",
       "        text-align: right;\n",
       "    }\n",
       "</style>\n",
       "<table border=\"1\" class=\"dataframe\">\n",
       "  <thead>\n",
       "    <tr style=\"text-align: right;\">\n",
       "      <th></th>\n",
       "      <th>LotArea</th>\n",
       "      <th>MSSubClass</th>\n",
       "    </tr>\n",
       "  </thead>\n",
       "  <tbody>\n",
       "    <tr>\n",
       "      <th>0</th>\n",
       "      <td>0.033420</td>\n",
       "      <td>0.235294</td>\n",
       "    </tr>\n",
       "    <tr>\n",
       "      <th>1</th>\n",
       "      <td>0.038795</td>\n",
       "      <td>0.000000</td>\n",
       "    </tr>\n",
       "    <tr>\n",
       "      <th>2</th>\n",
       "      <td>0.046507</td>\n",
       "      <td>0.235294</td>\n",
       "    </tr>\n",
       "    <tr>\n",
       "      <th>3</th>\n",
       "      <td>0.038561</td>\n",
       "      <td>0.294118</td>\n",
       "    </tr>\n",
       "    <tr>\n",
       "      <th>4</th>\n",
       "      <td>0.060576</td>\n",
       "      <td>0.235294</td>\n",
       "    </tr>\n",
       "  </tbody>\n",
       "</table>\n",
       "</div>"
      ],
      "text/plain": [
       "    LotArea  MSSubClass\n",
       "0  0.033420    0.235294\n",
       "1  0.038795    0.000000\n",
       "2  0.046507    0.235294\n",
       "3  0.038561    0.294118\n",
       "4  0.060576    0.235294"
      ]
     },
     "execution_count": 10,
     "metadata": {},
     "output_type": "execute_result"
    }
   ],
   "source": [
    "from sklearn.preprocessing import MinMaxScaler\n",
    "\n",
    "scaler = MinMaxScaler()\n",
    "scaled_data = scaler.fit_transform(df)\n",
    "scaled_df = pd.DataFrame(scaled_data,columns=df.columns)\n",
    "scaled_df.head()\n"
   ]
  },
  {
   "cell_type": "markdown",
   "id": "ebc6c674",
   "metadata": {},
   "source": [
    "# Normalization"
   ]
  },
  {
   "cell_type": "markdown",
   "id": "72ba2b1b",
   "metadata": {},
   "source": [
    "\n",
    "This method is more or less the same as the previous method but here instead of the minimum value, we subtract each entry by the mean value of the whole data and then divide the results by the difference between the minimum and the maximum value.\n",
    "```\n",
    "X_{\\rm {scaled }}=\\frac{X_{i}-X_{\\text {mean}}}{X_{\\rm{max}} - X_{\\rm{min}}}  ```"
   ]
  },
  {
   "cell_type": "code",
   "execution_count": 11,
   "id": "f49d3458",
   "metadata": {},
   "outputs": [
    {
     "name": "stdout",
     "output_type": "stream",
     "text": [
      "    LotArea  MSSubClass\n",
      "0  0.999975    0.007100\n",
      "1  0.999998    0.002083\n",
      "2  0.999986    0.005333\n",
      "3  0.999973    0.007330\n",
      "4  0.999991    0.004208\n"
     ]
    }
   ],
   "source": [
    "from sklearn.preprocessing import Normalizer\n",
    "\n",
    "scaler = Normalizer()\n",
    "scaled_data = scaler.fit_transform(df)\n",
    "scaled_df = pd.DataFrame(scaled_data,columns=df.columns)\n",
    "print(scaled_df.head())\n"
   ]
  },
  {
   "cell_type": "markdown",
   "id": "6bd59fa9",
   "metadata": {},
   "source": [
    "# Standardization"
   ]
  },
  {
   "cell_type": "markdown",
   "id": "289a43bd",
   "metadata": {},
   "source": [
    "\n",
    "This method of scaling is basically based on the central tendencies and variance of the data. \n",
    "\n",
    "First, we should calculate the mean and standard deviation of the data we would like to normalize.\n",
    "Then we are supposed to subtract the mean value from each entry and then divide the result by the standard deviation"
   ]
  },
  {
   "cell_type": "markdown",
   "id": "9328c26f",
   "metadata": {},
   "source": [
    "```X_{\\rm {scaled }}=\\frac{X_{i}-X_{\\text {mean }}}{\\sigma}  ```"
   ]
  },
  {
   "cell_type": "code",
   "execution_count": 12,
   "id": "811289df",
   "metadata": {},
   "outputs": [
    {
     "name": "stdout",
     "output_type": "stream",
     "text": [
      "    LotArea  MSSubClass\n",
      "0 -0.207142    0.073375\n",
      "1 -0.091886   -0.872563\n",
      "2  0.073480    0.073375\n",
      "3 -0.096897    0.309859\n",
      "4  0.375148    0.073375\n"
     ]
    }
   ],
   "source": [
    "from sklearn.preprocessing import StandardScaler\n",
    " \n",
    "scaler = StandardScaler()\n",
    "scaled_data = scaler.fit_transform(df)\n",
    "scaled_df = pd.DataFrame(scaled_data,\n",
    "                         columns=df.columns)\n",
    "print(scaled_df.head())"
   ]
  },
  {
   "cell_type": "markdown",
   "id": "d9e593f6",
   "metadata": {},
   "source": [
    "# Robust Scaling"
   ]
  },
  {
   "cell_type": "markdown",
   "id": "4f407a88",
   "metadata": {},
   "source": [
    "In this method of scaling, we use two main statistical measures of the data.\n",
    "\n",
    "Median\n",
    "Inter-Quartile Range\n",
    "After calculating these two values we are supposed to subtract the median from each entry and then divide the result by the interquartile range.\n",
    "\n",
    "```X_{\\rm {scaled }}=\\frac{X_{i}-X_{\\text {median }}}{IQR}  ```"
   ]
  },
  {
   "cell_type": "code",
   "execution_count": 13,
   "id": "326d0ff5",
   "metadata": {},
   "outputs": [
    {
     "name": "stdout",
     "output_type": "stream",
     "text": [
      "    LotArea  MSSubClass\n",
      "0 -0.254076         0.2\n",
      "1  0.030015        -0.6\n",
      "2  0.437624         0.2\n",
      "3  0.017663         0.4\n",
      "4  1.181201         0.2\n"
     ]
    }
   ],
   "source": [
    "from sklearn.preprocessing import RobustScaler\n",
    " \n",
    "scaler = RobustScaler()\n",
    "scaled_data = scaler.fit_transform(df)\n",
    "scaled_df = pd.DataFrame(scaled_data,\n",
    "                         columns=df.columns)\n",
    "print(scaled_df.head())"
   ]
  },
  {
   "cell_type": "markdown",
   "id": "62475b69",
   "metadata": {},
   "source": [
    "# Data  Normalization using Pandas"
   ]
  },
  {
   "cell_type": "code",
   "execution_count": 16,
   "id": "f19ee1fe",
   "metadata": {},
   "outputs": [
    {
     "data": {
      "text/html": [
       "<div>\n",
       "<style scoped>\n",
       "    .dataframe tbody tr th:only-of-type {\n",
       "        vertical-align: middle;\n",
       "    }\n",
       "\n",
       "    .dataframe tbody tr th {\n",
       "        vertical-align: top;\n",
       "    }\n",
       "\n",
       "    .dataframe thead th {\n",
       "        text-align: right;\n",
       "    }\n",
       "</style>\n",
       "<table border=\"1\" class=\"dataframe\">\n",
       "  <thead>\n",
       "    <tr style=\"text-align: right;\">\n",
       "      <th></th>\n",
       "      <th>Col A</th>\n",
       "      <th>Col B</th>\n",
       "      <th>Col C</th>\n",
       "      <th>Col D</th>\n",
       "    </tr>\n",
       "  </thead>\n",
       "  <tbody>\n",
       "    <tr>\n",
       "      <th>0</th>\n",
       "      <td>180000</td>\n",
       "      <td>110</td>\n",
       "      <td>18.9</td>\n",
       "      <td>1400</td>\n",
       "    </tr>\n",
       "    <tr>\n",
       "      <th>1</th>\n",
       "      <td>360000</td>\n",
       "      <td>905</td>\n",
       "      <td>23.4</td>\n",
       "      <td>1800</td>\n",
       "    </tr>\n",
       "    <tr>\n",
       "      <th>2</th>\n",
       "      <td>230000</td>\n",
       "      <td>230</td>\n",
       "      <td>14.0</td>\n",
       "      <td>1300</td>\n",
       "    </tr>\n",
       "    <tr>\n",
       "      <th>3</th>\n",
       "      <td>60000</td>\n",
       "      <td>450</td>\n",
       "      <td>13.5</td>\n",
       "      <td>1500</td>\n",
       "    </tr>\n",
       "  </tbody>\n",
       "</table>\n",
       "</div>"
      ],
      "text/plain": [
       "    Col A  Col B  Col C  Col D\n",
       "0  180000    110   18.9   1400\n",
       "1  360000    905   23.4   1800\n",
       "2  230000    230   14.0   1300\n",
       "3   60000    450   13.5   1500"
      ]
     },
     "metadata": {},
     "output_type": "display_data"
    }
   ],
   "source": [
    "#Creating data\n",
    "# importing packages\n",
    "import pandas as pd\n",
    "  \n",
    "# create data\n",
    "df = pd.DataFrame([\n",
    "                   [180000, 110, 18.9, 1400], \n",
    "                   [360000, 905, 23.4, 1800], \n",
    "                   [230000, 230, 14.0, 1300], \n",
    "                   [60000, 450, 13.5, 1500]], \n",
    "    \n",
    "                   columns=['Col A', 'Col B',\n",
    "                            'Col C', 'Col D'])\n",
    "  \n",
    "# view data\n",
    "display(df)"
   ]
  },
  {
   "cell_type": "code",
   "execution_count": 17,
   "id": "ac5a3680",
   "metadata": {},
   "outputs": [
    {
     "data": {
      "text/plain": [
       "<AxesSubplot: >"
      ]
     },
     "execution_count": 17,
     "metadata": {},
     "output_type": "execute_result"
    },
    {
     "data": {
      "image/png": "[encoded data removed]",
      "text/plain": [
       "<Figure size 640x480 with 1 Axes>"
      ]
     },
     "metadata": {},
     "output_type": "display_data"
    }
   ],
   "source": [
    "import matplotlib.pyplot as plt\n",
    "df.plot(kind = 'bar')"
   ]
  },
  {
   "cell_type": "code",
   "execution_count": 18,
   "id": "57ea2240",
   "metadata": {},
   "outputs": [
    {
     "data": {
      "text/html": [
       "<div>\n",
       "<style scoped>\n",
       "    .dataframe tbody tr th:only-of-type {\n",
       "        vertical-align: middle;\n",
       "    }\n",
       "\n",
       "    .dataframe tbody tr th {\n",
       "        vertical-align: top;\n",
       "    }\n",
       "\n",
       "    .dataframe thead th {\n",
       "        text-align: right;\n",
       "    }\n",
       "</style>\n",
       "<table border=\"1\" class=\"dataframe\">\n",
       "  <thead>\n",
       "    <tr style=\"text-align: right;\">\n",
       "      <th></th>\n",
       "      <th>Col A</th>\n",
       "      <th>Col B</th>\n",
       "      <th>Col C</th>\n",
       "      <th>Col D</th>\n",
       "    </tr>\n",
       "  </thead>\n",
       "  <tbody>\n",
       "    <tr>\n",
       "      <th>0</th>\n",
       "      <td>0.500000</td>\n",
       "      <td>0.121547</td>\n",
       "      <td>0.807692</td>\n",
       "      <td>0.777778</td>\n",
       "    </tr>\n",
       "    <tr>\n",
       "      <th>1</th>\n",
       "      <td>1.000000</td>\n",
       "      <td>1.000000</td>\n",
       "      <td>1.000000</td>\n",
       "      <td>1.000000</td>\n",
       "    </tr>\n",
       "    <tr>\n",
       "      <th>2</th>\n",
       "      <td>0.638889</td>\n",
       "      <td>0.254144</td>\n",
       "      <td>0.598291</td>\n",
       "      <td>0.722222</td>\n",
       "    </tr>\n",
       "    <tr>\n",
       "      <th>3</th>\n",
       "      <td>0.166667</td>\n",
       "      <td>0.497238</td>\n",
       "      <td>0.576923</td>\n",
       "      <td>0.833333</td>\n",
       "    </tr>\n",
       "  </tbody>\n",
       "</table>\n",
       "</div>"
      ],
      "text/plain": [
       "      Col A     Col B     Col C     Col D\n",
       "0  0.500000  0.121547  0.807692  0.777778\n",
       "1  1.000000  1.000000  1.000000  1.000000\n",
       "2  0.638889  0.254144  0.598291  0.722222\n",
       "3  0.166667  0.497238  0.576923  0.833333"
      ]
     },
     "metadata": {},
     "output_type": "display_data"
    }
   ],
   "source": [
    "# copy the data\n",
    "df_max_scaled = df.copy()\n",
    "  \n",
    "# apply normalization techniques\n",
    "for column in df_max_scaled.columns:\n",
    "    df_max_scaled[column] = df_max_scaled[column]  / df_max_scaled[column].abs().max()\n",
    "      \n",
    "# view normalized data\n",
    "display(df_max_scaled)"
   ]
  },
  {
   "cell_type": "code",
   "execution_count": 19,
   "id": "cb65a254",
   "metadata": {},
   "outputs": [
    {
     "data": {
      "text/plain": [
       "<AxesSubplot: >"
      ]
     },
     "execution_count": 19,
     "metadata": {},
     "output_type": "execute_result"
    },
    {
     "data": {
      "image/png": "[encoded data removed]",
      "text/plain": [
       "<Figure size 640x480 with 1 Axes>"
      ]
     },
     "metadata": {},
     "output_type": "display_data"
    }
   ],
   "source": [
    "import matplotlib.pyplot as plt\n",
    "df_max_scaled.plot(kind = 'bar')"
   ]
  },
  {
   "cell_type": "code",
   "execution_count": null,
   "id": "8dfcc125",
   "metadata": {},
   "outputs": [],
   "source": []
  }
 ],
 "metadata": {
  "kernelspec": {
   "display_name": "Python 3 (ipykernel)",
   "language": "python",
   "name": "python3"
  },
  "language_info": {
   "codemirror_mode": {
    "name": "ipython",
    "version": 3
   },
   "file_extension": ".py",
   "mimetype": "text/x-python",
   "name": "python",
   "nbconvert_exporter": "python",
   "pygments_lexer": "ipython3",
   "version": "3.10.7"
  }
 },
 "nbformat": 4,
 "nbformat_minor": 5
}
