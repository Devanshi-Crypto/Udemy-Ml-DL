{
 "cells": [
  {
   "cell_type": "markdown",
   "id": "08d9530b",
   "metadata": {},
   "source": [
    "# Learning how basic machine learning prediction works using example of Car Sales Prediction - I"
   ]
  },
  {
   "cell_type": "markdown",
   "id": "8ecac120",
   "metadata": {},
   "source": [
    "### CAR PURCHASE AMOUNT (DOLLAR) PREDICTION USING ANNs\n",
    "\n",
    "``` Aim:develop a model to predict the total dollar amount that customers are willing to pay given the following attributes:\n",
    "```\n",
    "```Customer Name\n",
    "Customer e-mail\n",
    "Country\n",
    "Gender\n",
    "Age\n",
    "Annual Salary\n",
    "Credit Card Debt\n",
    "Net Worth```\n",
    "\n",
    "The model should predict:\n",
    "\n",
    "```Car Purchase Amount```"
   ]
  },
  {
   "cell_type": "markdown",
   "id": "33c525ec",
   "metadata": {},
   "source": [
    "It is a *Regression* task.\n",
    "\n",
    "Regression works by predicting value of one variable Y based on another variable X.\n",
    "\n",
    "X is called the independent variable and Y is called the dependant variable."
   ]
  },
  {
   "cell_type": "markdown",
   "id": "84367ae3",
   "metadata": {},
   "source": [
    "### Artifical Neural Network"
   ]
  },
  {
   "cell_type": "markdown",
   "id": "6fd26f51",
   "metadata": {},
   "source": [
    "ANN are information processing models inspired by human brain.\n",
    "The neurons communicate with each other and help humans see, think and generate ideas"
   ]
  },
  {
   "cell_type": "markdown",
   "id": "c131f3a1",
   "metadata": {},
   "source": [
    "             ANN                     BNN\n",
    "            input                    dendrites\n",
    "            weight                   synapse\n",
    "            output                   axon\n",
    "            hidden layer             cell body\n"
   ]
  },
  {
   "cell_type": "markdown",
   "id": "36bb65a0",
   "metadata": {},
   "source": [
    "### Neuron Mathemtical Model\n",
    "\n",
    "- Bias allows to shift the activtion function curve up or down.\n",
    "- Number of adjustable paraeters = 4*(3 weights & 1 bias)\n",
    "- Activaton function = f\n",
    "\n",
    "``` y = f(X1W1+X2W2+X3W3+b)```"
   ]
  },
  {
   "cell_type": "markdown",
   "id": "616650bc",
   "metadata": {},
   "source": [
    "Assuming that activation function is a Unit Step Activation Function that is used to map the input between (0,1).\n",
    "\n",
    "```\n",
    "f(x) = {0 if 0>x\n",
    "        1 if x>=0}\n",
    "```"
   ]
  },
  {
   "cell_type": "markdown",
   "id": "df45ca3b",
   "metadata": {},
   "source": [
    "### Hidden Layers"
   ]
  },
  {
   "cell_type": "markdown",
   "id": "55cb01a2",
   "metadata": {},
   "source": [
    "A hidden layer is an artificial neural network that is a layer in between input layers and output layers. Where the artificial neurons take in a set of weighted inputs and produce an output through an activation function."
   ]
  },
  {
   "cell_type": "markdown",
   "id": "15639192",
   "metadata": {},
   "source": [
    "### Back Propogation"
   ]
  },
  {
   "cell_type": "markdown",
   "id": "a129a776",
   "metadata": {},
   "source": [
    "Backpropogaion is a method used ot train ANNs by calculating gradient needed to update network weights.\n",
    "\n",
    "It is commonly used by the gradient descent optimization algorithm to adjust the weight of neurons by calculting the gradient of the loss function."
   ]
  },
  {
   "cell_type": "markdown",
   "id": "7f2c4ed3",
   "metadata": {},
   "source": [
    "Steps:\n",
    "- Forward Propogation\n",
    "- Error Calculation\n",
    "- Back Propogation\n",
    "- Weight Update"
   ]
  },
  {
   "cell_type": "markdown",
   "id": "bef3f313",
   "metadata": {},
   "source": [
    "*Phase 1:*\n",
    "- Propogation forward throught the network to generate output values.\n",
    "- Calculation of the error term\n",
    "- Propogation of output activations back through network using training pattern target to generate deltas.\n",
    "\n",
    "*Phase 2:*\n",
    "- Calculate weight gradient\n",
    "- Subtract ratio of weight gradient from weight\n",
    "- This ratio influences the pssed and quality of learning, hence called learning rate. The greater the ratio, faster the neuron trains, but lower the ratio, more accurate the training is."
   ]
  },
  {
   "cell_type": "markdown",
   "id": "79a74f7e",
   "metadata": {},
   "source": [
    "## Neuron Model Matrix Representation"
   ]
  },
  {
   "cell_type": "markdown",
   "id": "64639afc",
   "metadata": {},
   "source": [
    "The network is represented by a matrix of weights, input and outputs.\n",
    "\n",
    "Total Number of adjustable parameters = 8:\n",
    "  - weights = 6\n",
    "  - biases =2"
   ]
  },
  {
   "cell_type": "code",
   "execution_count": 1,
   "id": "168c13db",
   "metadata": {},
   "outputs": [
    {
     "data": {
      "text/plain": [
       "matrix([['p1', 'p2', 'p3']], dtype='<U2')"
      ]
     },
     "execution_count": 1,
     "metadata": {},
     "output_type": "execute_result"
    }
   ],
   "source": [
    "import numpy as np\n",
    "p = ['p1','p2','p3']\n",
    "np.matrix(p)"
   ]
  },
  {
   "cell_type": "code",
   "execution_count": 2,
   "id": "098521bf",
   "metadata": {},
   "outputs": [
    {
     "data": {
      "text/plain": [
       "matrix([['W11', 'W12', 'W13'],\n",
       "        ['W21', 'W22', 'W23']], dtype='<U3')"
      ]
     },
     "execution_count": 2,
     "metadata": {},
     "output_type": "execute_result"
    }
   ],
   "source": [
    "w = [['W11','W12','W13'],['W21','W22','W23']]\n",
    "np.matrix(w)"
   ]
  },
  {
   "cell_type": "code",
   "execution_count": 3,
   "id": "b097ff15",
   "metadata": {},
   "outputs": [
    {
     "data": {
      "text/plain": [
       "matrix([['b1', 'b2']], dtype='<U2')"
      ]
     },
     "execution_count": 3,
     "metadata": {},
     "output_type": "execute_result"
    }
   ],
   "source": [
    "np.matrix(['b1','b2'])"
   ]
  },
  {
   "cell_type": "markdown",
   "id": "e81adc2d",
   "metadata": {},
   "source": [
    "```a = f(W*P+b)```"
   ]
  },
  {
   "cell_type": "markdown",
   "id": "9f602b98",
   "metadata": {},
   "source": [
    "## Types of ANN\n",
    "\n",
    "- Convolution Neural Network\n",
    "- Feed Forward Neural Network"
   ]
  },
  {
   "cell_type": "code",
   "execution_count": null,
   "id": "8424889b",
   "metadata": {},
   "outputs": [],
   "source": []
  }
 ],
 "metadata": {
  "kernelspec": {
   "display_name": "Python 3 (ipykernel)",
   "language": "python",
   "name": "python3"
  },
  "language_info": {
   "codemirror_mode": {
    "name": "ipython",
    "version": 3
   },
   "file_extension": ".py",
   "mimetype": "text/x-python",
   "name": "python",
   "nbconvert_exporter": "python",
   "pygments_lexer": "ipython3",
   "version": "3.10.7"
  }
 },
 "nbformat": 4,
 "nbformat_minor": 5
}
