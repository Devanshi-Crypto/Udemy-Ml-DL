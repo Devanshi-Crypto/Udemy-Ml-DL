{
 "cells": [
  {
   "cell_type": "markdown",
   "id": "c349e2d8",
   "metadata": {},
   "source": [
    "# Time Series Forecasting With Prophet in Python\n",
    "\n",
    "Time series forecasting can be challenging as there are many different methods you could use and many different hyperparameters for each method.\n",
    "\n",
    "The Prophet library is an open-source library designed for making forecasts for univariate time series datasets. It is easy to use and designed to automatically find a good set of hyperparameters for the model in an effort to make skillful forecasts for data with trends and seasonal structure by default"
   ]
  },
  {
   "cell_type": "markdown",
   "id": "ea78cccf",
   "metadata": {},
   "source": [
    "Prophet Forecasting Library\n",
    "Prophet, or “Facebook Prophet,” is an open-source library for univariate (one variable) time series forecasting developed by Facebook.\n",
    "\n",
    "Prophet implements what they refer to as an additive time series forecasting model, and the implementation supports trends, seasonality, and holidays.\n",
    "\n"
   ]
  },
  {
   "cell_type": "markdown",
   "id": "aebe540e",
   "metadata": {},
   "source": [
    "The first step is to install the Prophet library using Pip, as follows:\n",
    "\n",
    "sudo pip install fbprophet\n",
    "Next, we can confirm that the library was installed correctly.\n",
    "\n",
    "To do this, we can import the library and print the version number in Python. The complete example is listed below.\n",
    "\n",
    "### check prophet version\n",
    "```import fbprophet```\n",
    "### print version number\n",
    "```print('Prophet %s' % fbprophet.__version__)```\n"
   ]
  },
  {
   "cell_type": "markdown",
   "id": "24017f10",
   "metadata": {},
   "source": [
    "### Load and Plot Dataset\n",
    "A time-series dataset does not make sense to us until we plot it.\n",
    "\n",
    "Plotting a time series helps us actually see if there is a trend, a seasonal cycle, outliers, and more. It gives us a feel for the data.\n",
    "\n",
    "We can plot the data easily in Pandas by calling the plot() function on the DataFrame."
   ]
  },
  {
   "cell_type": "markdown",
   "id": "03890b9e",
   "metadata": {},
   "source": [
    "## Fit Prophet Model\n",
    "\n",
    "To use Prophet for forecasting, first, a Prophet() object is defined and configured, then it is fit on the dataset by calling the fit() function and passing the data.\n",
    "\n",
    "The Prophet() object takes arguments to configure the type of model you want, such as the type of growth, the type of seasonality, and more. By default, the model will work hard to figure out almost everything automatically.\n",
    "\n",
    "The fit() function takes a DataFrame of time series data. The DataFrame must have a specific format. The first column must have the name ‘ds‘ and contain the date-times. The second column must have the name ‘y‘ and contain the observations.\n",
    "\n",
    "This means we change the column names in the dataset. It also requires that the first column be converted to date-time objects, if they are not already (e.g. this can be down as part of loading the dataset with the right arguments to read_csv)."
   ]
  },
  {
   "cell_type": "markdown",
   "id": "54ce45b2",
   "metadata": {},
   "source": [
    "## Make an In-Sample Forecast\n",
    "It can be useful to make a forecast on historical data.\n",
    "\n",
    "That is, we can make a forecast on data used as input to train the model. Ideally, the model has seen the data before and would make a perfect prediction.\n",
    "\n",
    "Nevertheless, this is not the case as the model tries to generalize across all cases in the data.\n",
    "\n",
    "This is called making an in-sample (in training set sample) forecast and reviewing the results can give insight into how good the model is. That is, how well it learned the training data.\n",
    "\n",
    "A forecast is made by calling the predict() function and passing a DataFrame that contains one column named ‘ds‘ and rows with date-times for all the intervals to be predicted.\n",
    "\n",
    "There are many ways to create this “forecast” DataFrame."
   ]
  },
  {
   "cell_type": "markdown",
   "id": "329b507a",
   "metadata": {},
   "source": [
    "That DataFrame can then be provided to the predict() function to calculate a forecast.\n",
    "\n",
    "The result of the predict() function is a DataFrame that contains many columns. Perhaps the most important columns are the forecast date time (‘ds‘), the forecasted value (‘yhat‘), and the lower and upper bounds on the predicted value (‘yhat_lower‘ and ‘yhat_upper‘) that provide uncertainty of the forecast."
   ]
  },
  {
   "cell_type": "markdown",
   "id": "ce6bd3e3",
   "metadata": {},
   "source": [
    "Prophet also provides a built-in tool for visualizing the prediction in the context of the training dataset.\n",
    "\n",
    "This can be achieved by calling the plot() function on the model and passing it a result DataFrame. It will create a plot of the training dataset and overlay the prediction with the upper and lower bounds for the forecast dates"
   ]
  },
  {
   "cell_type": "markdown",
   "id": "821ebe0d",
   "metadata": {},
   "source": [
    "## Make an Out-of-Sample Forecast\n",
    "In practice, we really want a forecast model to make a prediction beyond the training data.\n",
    "\n",
    "This is called an out-of-sample forecast.\n",
    "\n",
    "We can achieve this in the same way as an in-sample forecast and simply specify a different forecast period."
   ]
  },
  {
   "cell_type": "markdown",
   "id": "a6f5a854",
   "metadata": {},
   "source": [
    "## Manually Evaluate Forecast Model\n",
    "It is critical to develop an objective estimate of a forecast model’s performance.\n",
    "\n",
    "This can be achieved by holding some data back from the model, such as the last 12 months. Then, fitting the model on the first portion of the data, using it to make predictions on the held-pack portion, and calculating an error measure, such as the mean absolute error across the forecasts. E.g. a simulated out-of-sample forecast.\n",
    "\n",
    "The score gives an estimate of how well we might expect the model to perform on average when making an out-of-sample forecast."
   ]
  }
 ],
 "metadata": {
  "kernelspec": {
   "display_name": "Python 3.10.7 64-bit",
   "language": "python",
   "name": "python3"
  },
  "language_info": {
   "codemirror_mode": {
    "name": "ipython",
    "version": 3
   },
   "file_extension": ".py",
   "mimetype": "text/x-python",
   "name": "python",
   "nbconvert_exporter": "python",
   "pygments_lexer": "ipython3",
   "version": "3.10.7"
  },
  "vscode": {
   "interpreter": {
    "hash": "df95319d8ce4e1d89f5365ae10992bc1f65da593082b1d264e8f529830ec2f02"
   }
  }
 },
 "nbformat": 4,
 "nbformat_minor": 5
}
